{
 "cells": [
  {
   "cell_type": "code",
   "execution_count": null,
   "id": "7e4c88b1",
   "metadata": {},
   "outputs": [],
   "source": [
    "!python gen_images.py --help"
   ]
  },
  {
   "cell_type": "code",
   "execution_count": null,
   "id": "75711754",
   "metadata": {},
   "outputs": [],
   "source": [
    "!python gen_video.py --help"
   ]
  },
  {
   "cell_type": "code",
   "execution_count": null,
   "id": "54807fcf",
   "metadata": {
    "scrolled": true
   },
   "outputs": [
    {
     "name": "stderr",
     "output_type": "stream",
     "text": [
      "C:\\Users\\hello\\anaconda3\\envs\\lucid\\lib\\site-packages\\tqdm\\auto.py:22: TqdmWarning: IProgress not found. Please update jupyter and ipywidgets. See https://ipywidgets.readthedocs.io/en/stable/user_install.html\n",
      "  from .autonotebook import tqdm as notebook_tqdm\n"
     ]
    },
    {
     "name": "stdout",
     "output_type": "stream",
     "text": [
      "Loading networks from \"C:/Users/hello/Desktop/AI/lucid-sonic-dreams/pytorch/70s-scifi-1024.pkl\"...\n",
      "warn: --class=lbl ignored when running on an unconditional network\n",
      "Generating image for seed 1 (0/19) ...\n",
      "Setting up PyTorch plugin \"bias_act_plugin\"... Done.\n",
      "Setting up PyTorch plugin \"upfirdn2d_plugin\"... "
     ]
    }
   ],
   "source": [
    "import os\n",
    "import re\n",
    "from typing import List, Optional, Tuple, Union\n",
    "\n",
    "import click\n",
    "import dnnlib\n",
    "import numpy as np\n",
    "import PIL.Image\n",
    "import torch\n",
    "\n",
    "import legacy\n",
    "\n",
    "pklPath='C:/Users/hello/Desktop/AI/lucid-sonic-dreams/pytorch/'\n",
    "outDir='C:/Users/hello/Desktop/AI/stylegan3/out/'\n",
    "seeds=[1,2,3,4,5,6,7,8,9,10,11,12,13,14,16,17,18,19,20]\n",
    "class_idx=0\n",
    "truncation_psi=1\n",
    "noise_mode='const'\n",
    "\n",
    "\n",
    "pklList = os.listdir(pklPath)\n",
    "\n",
    "for pkl in pklList:\n",
    "    pklName = os.path.splitext(pkl)[0]\n",
    "    network_pkl = pklPath + pkl\n",
    "    outputdir = outDir + pklName\n",
    "    vid = outputdir + '/video.mp4'\n",
    "    if not os.path.exists(outputdir):\n",
    "        os.makedirs(outputdir)\n",
    "    print('Loading networks from \"%s\"...' % network_pkl)\n",
    "    device = torch.device('cuda')\n",
    "    with dnnlib.util.open_url(network_pkl) as f:\n",
    "        G = legacy.load_network_pkl(f)['G_ema'].to(device) # type: ignore\n",
    "\n",
    "    os.makedirs(outputdir, exist_ok=True)\n",
    "\n",
    "    # Labels.\n",
    "    label = torch.zeros([1, G.c_dim], device=device)\n",
    "    if G.c_dim != 0:\n",
    "        if class_idx is None:\n",
    "            raise click.ClickException('Must specify class label with --class when using a conditional network')\n",
    "        label[:, class_idx] = 1\n",
    "    else:\n",
    "        if class_idx is not None:\n",
    "            print ('warn: --class=lbl ignored when running on an unconditional network')\n",
    "\n",
    "    # Generate images.\n",
    "    for seed_idx, seed in enumerate(seeds):\n",
    "        print('Generating image for seed %d (%d/%d) ...' % (seed, seed_idx, len(seeds)))\n",
    "        z = torch.from_numpy(np.random.RandomState(seed).randn(1, G.z_dim)).to(device)\n",
    "\n",
    "        # Construct an inverse rotation/translation matrix and pass to the generator.  The\n",
    "        # generator expects this matrix as an inverse to avoid potentially failing numerical\n",
    "        # operations in the network.\n",
    "        if hasattr(G.synthesis, 'input'):\n",
    "            m = make_transform(translate, rotate)\n",
    "            m = np.linalg.inv(m)\n",
    "            G.synthesis.input.transform.copy_(torch.from_numpy(m))\n",
    "\n",
    "        img = G(z, label, truncation_psi=truncation_psi, noise_mode=noise_mode)\n",
    "        img = (img.permute(0, 2, 3, 1) * 127.5 + 128).clamp(0, 255).to(torch.uint8)\n",
    "        PIL.Image.fromarray(img[0].cpu().numpy(), 'RGB').save(f'{outputdir}/seed{seed:04d}.png')\n",
    "#     !python gen_video.py --network={network} --seeds=1-25 --output={outputdir+'/video.mp4'} --shuffle-seed=20 --grid=1x1 --w-frames=85\n",
    "    \n",
    "    \n",
    "    "
   ]
  },
  {
   "cell_type": "code",
   "execution_count": null,
   "id": "90cf1154",
   "metadata": {},
   "outputs": [],
   "source": []
  }
 ],
 "metadata": {
  "kernelspec": {
   "display_name": "Python 3 (ipykernel)",
   "language": "python",
   "name": "python3"
  },
  "language_info": {
   "codemirror_mode": {
    "name": "ipython",
    "version": 3
   },
   "file_extension": ".py",
   "mimetype": "text/x-python",
   "name": "python",
   "nbconvert_exporter": "python",
   "pygments_lexer": "ipython3",
   "version": "3.9.12"
  }
 },
 "nbformat": 4,
 "nbformat_minor": 5
}
